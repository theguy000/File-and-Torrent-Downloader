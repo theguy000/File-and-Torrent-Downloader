{
"nbformat": 4,
"nbformat_minor": 0,
"metadata": {
 "colab": {
 "provenance": [],
 "collapsed_sections": [],
 "authorship_tag": "ABX9TyPNgvFkiwvq9WgS02uG5tCn",
 "include_colab_link": true
 },
 "kernelspec": {
 "name": "python3",
 "display_name": "Python 3"
 },
 "language_info": {
 "name": "python"
 }
},
"cells": [
 {
 "cell_type": "markdown",
 "metadata": {
 "id": "view-in-github",
 "colab_type": "text"
 },
 "source": [
 "<a href=\"https://colab.research.google.com/github/istiakm30/File-and-Torrent-Downloader/blob/main/Downloader.ipynb\" target=\"_parent\"><img src=\"https://colab.research.google.com/assets/colab-badge.svg\" alt=\"Open In Colab\"/></a>"
 ]
 },
 {
 "cell_type": "markdown",
 "source": [
 "# Setup Environment"
 ],
 "metadata": {
 "id": "setup-cell"
 }
 },
 {
 "cell_type": "code",
 "execution_count": null,
 "metadata": {
 "id": "setup-code"
 },
 "outputs": [],
 "source": [
 "#@title Setup and Imports
 "!pip install libtorrent tqdm
 "import os
 "import re
 "import shutil
 "import time
 "import requests
 "from google.colab import drive
 "from tqdm.notebook import tqdm
 "drive.mount('/content/drive')
 ]
 }
]
}
,
{
 "cell_type": "markdown",
 "source": [
  "# Direct File Downloader"
 ],
 "metadata": {
  "id": "direct-downloader-markdown"
 }
},
{
 "cell_type": "code",
 "execution_count": null,
 "metadata": {
  "id": "direct-downloader-code"
 },
 "outputs": [],
 "source": [
  "#@title Direct Downloader
  "download_link = '' #@param {type:\"string\"}
  "save_path = '/content/drive/MyDrive/Downloaded' #@param {type:\"string\"}
  "os.makedirs(save_path, exist_ok=True)
  "response = requests.get(download_link, stream=True)
  "total_size = int(response.headers.get('content-length', 0))
  "filename = ''
  "if 'content-disposition' in response.headers:
  "    d = response.headers['content-disposition']
  "    filenames = re.findall('filename=(.+)', d)
  "    if filenames:
  "        filename = filenames[0].strip('\"')
  "if not filename:
  "    filename = download_link.split('/')[-1]
  "filepath = os.path.join(save_path, filename)
  "progress_bar = tqdm(total=total_size, unit='iB', unit_scale=True)
  "with open(filepath, 'wb') as file:
  "    for data in response.iter_content(chunk_size=1024):
  "        progress_bar.update(len(data))
  "        file.write(data)
  "progress_bar.close()
  "print(f'File downloaded to: {filepath}')"
 ]
}
}
{
  "nbformat": 4,
  "nbformat_minor": 0,
  "metadata": {
    "colab": {
      "provenance": [],
      "collapsed_sections": [
        "MFXLyvaWIhZ_",
        "jG_RHCErIq8d",
        "CLRm5FJaGnCI"
      ],
      "authorship_tag": "ABX9TyPNgvFkiwvq9WgS02uG5tCn",
      "include_colab_link": true
    },
    "kernelspec": {
      "name": "python3",
      "display_name": "Python 3"
    },
    "language_info": {
      "name": "python"
    }
  },
  "cells": [
    {
      "cell_type": "markdown",
      "metadata": {
        "id": "view-in-github",
        "colab_type": "text"
      },
      "source": [
        "<a href=\"https://colab.research.google.com/github/istiakm30/File-and-Torrent-Downloader/blob/main/Downloader.ipynb\" target=\"_parent\"><img src=\"https://colab.research.google.com/assets/colab-badge.svg\" alt=\"Open In Colab\"/></a>"
      ]
    },
    {
      "cell_type": "markdown",
      "source": [
        "# Download Files"
      ],
      "metadata": {
        "id": "MFXLyvaWIhZ_"
      }
    },
    {
      "cell_type": "code",
      "execution_count": null,
      "metadata": {
        "cellView": "form",
        "id": "0_C-gf_5OKLY"
      },
      "outputs": [],
      "source": [
        "#@title Basic Downloader\n",
        "\n",
        "print('Importing necessary libraries...')\n",
        "try:\n",
        "  from tqdm.notebook import tqdm\n",
        "except:\n",
        "  !pip install tqdm > /dev/null\n",
        "\n",
        "import requests\n",
        "from tqdm.notebook import tqdm\n",
        "from google.colab import files\n",
        "import re\n",
        "print('DONE')\n",
        "# Create a GUI to input the URL\n",
        "download_link = '' #@param {type:\"string\"}\n",
        "\n",
        "# Get the file size\n",
        "response = requests.get(download_link, stream=True)\n",
        "total_size = int(response.headers.get('content-length', 0))\n",
        "\n",
        "# Extract the filename from the Content-Disposition header\n",
        "d = response.headers['content-disposition']\n",
        "filename = re.findall(\"filename=(.+)\", d)[0]\n",
        "\n",
        "# Initialize a progress bar\n",
        "progress_bar = tqdm(total=total_size, unit='iB', unit_scale=True)\n",
        "\n",
        "# Download the file with progress updates\n",
        "with open(filename, 'wb') as file:\n",
        "    for data in response.iter_content(chunk_size=1024):\n",
        "        progress_bar.update(len(data))\n",
        "        file.write(data)\n",
        "\n",
        "progress_bar.close()\n",
        "\n",
        "if total_size != 0 and progress_bar.n != total_size:\n",
        "    print(\"ERROR: something went wrong with the download.\")\n",
        "else:\n",
        "    print(f\"{filename} downloaded successfully.\")\n",
        "\n",
        "# Create a download link in Colab\n",
        "files.download(filename)\n"
      ]
    },
    {
      "cell_type": "code",
      "source": [
        "#@title Multi-Threaded Downloader\n",
        "\n",
        "print('Importing necessary libraries...')\n",
        "\n",
        "# Import necessary libraries\n",
        "!pip install pySmartDL > /dev/null\n",
        "from pySmartDL import SmartDL\n",
        "from google.colab import files\n",
        "from tqdm.notebook import tqdm\n",
        "import os\n",
        "\n",
        "print('DONE')\n",
        "\n",
        "# Create a GUI to input the URL\n",
        "download_link = '' #@param {type:\"string\"}\n",
        "\n",
        "# Get the current working directory\n",
        "cwd = os.getcwd()\n",
        "\n",
        "# Create a SmartDL object\n",
        "obj = SmartDL(download_link, dest=cwd, progress_bar=False)\n",
        "\n",
        "# Start the download in a separate thread\n",
        "obj.start(blocking=False)\n",
        "\n",
        "# Create a progress bar\n",
        "progress_bar = tqdm(total=obj.filesize, unit='B', unit_scale=True, unit_divisor=1024)\n",
        "\n",
        "# Update the progress bar in a loop\n",
        "while not obj.isFinished():\n",
        "    progress_bar.update(obj.get_dl_size() - progress_bar.n)\n",
        "\n",
        "# Close the progress bar\n",
        "progress_bar.close()\n",
        "\n",
        "# Wait for the download to finish\n",
        "obj.wait()\n",
        "\n",
        "# Get the filename\n",
        "filename = os.path.basename(obj.get_dest())\n",
        "\n",
        "# Check if the download was successful\n",
        "if obj.isSuccessful():\n",
        "    print(f\"{filename} downloaded successfully.\")\n",
        "else:\n",
        "    print(\"ERROR: something went wrong with the download.\")\n",
        "\n",
        "# Create a download link in Colab\n",
        "files.download(os.path.join(cwd, filename))"
      ],
      "metadata": {
        "cellView": "form",
        "id": "QURVKu96PF7m"
      },
      "execution_count": null,
      "outputs": []
    },
    {
      "cell_type": "code",
      "source": [
        "#@title Move the Downloaded File into `Google Drive's \"Downloaded\"` Folder\n",
        "\n",
        "from google.colab import drive\n",
        "import shutil\n",
        "import os\n",
        "\n",
        "# Mount Google Drive\n",
        "drive.mount('/content/gdrive', force_remount=True)\n",
        "\n",
        "# Path to the folder where you want to save the file in your Google Drive\n",
        "destination_folder = \"/content/gdrive/MyDrive/Downloaded/\"\n",
        "\n",
        "# Ensure the folder exists\n",
        "os.makedirs(destination_folder, exist_ok=True)\n",
        "\n",
        "# Move the downloaded file to the Google Drive folder\n",
        "shutil.move(filename, destination_folder + filename)\n",
        "\n",
        "print(f\"{filename} copied successfully to {destination_folder}\")\n",
        "print(\"File has been copied to the 'Downloaded' folder in your Google Drive.\")\n",
        "print(\"Please navigate to this folder in your Google Drive and create a shareable link if you wish to share access.\")"
      ],
      "metadata": {
        "cellView": "form",
        "id": "bEOnRHXuSjsf"
      },
      "execution_count": null,
      "outputs": []
    },
    {
      "cell_type": "markdown",
      "source": [
        "# Download Torrents"
      ],
      "metadata": {
        "id": "jG_RHCErIq8d"
      }
    },
    {
      "cell_type": "code",
      "source": [
        "#@title Torrent File Downloader with `.torrent` File\n",
        "print('Importing necessary libraries...')\n",
        "\n",
        "# Install libtorrent and tqdm\n",
        "try:\n",
        "  import libtorrent as lt\n",
        "except:\n",
        "  !apt install -y python3-libtorrent > /dev/null\n",
        "try:\n",
        "  from tqdm.notebook import tqdm\n",
        "except:\n",
        "  !pip install tqdm > /dev/null\n",
        "print('DONE')\n",
        "\n",
        "import os\n",
        "import libtorrent as lt\n",
        "import time\n",
        "from google.colab import files\n",
        "from tqdm.notebook import tqdm\n",
        "\n",
        "# Upload the torrent file\n",
        "uploaded_torrent_file = files.upload()\n",
        "torrent_file_path = list(uploaded_torrent_file.keys())[0]\n",
        "\n",
        "# Create a hidden folder\n",
        "hidden_folder_path = './.hidden_folder'\n",
        "os.makedirs(hidden_folder_path, exist_ok=True)\n",
        "\n",
        "# Move the uploaded file into the hidden folder\n",
        "new_torrent_file_path = os.path.join(hidden_folder_path, torrent_file_path)\n",
        "os.rename(torrent_file_path, new_torrent_file_path)\n",
        "\n",
        "# Now, the torrent file is in the hidden folder\n",
        "torrent_file_path = new_torrent_file_path\n",
        "\n",
        "# Create a session\n",
        "ses = lt.session()\n",
        "info = lt.torrent_info(torrent_file_path)\n",
        "h = ses.add_torrent({'ti': info, 'save_path': '.'})\n",
        "\n",
        "# Get torrent info\n",
        "total_size = info.total_size()\n",
        "\n",
        "# Initialize progress bar\n",
        "progress_bar = tqdm(total=total_size, unit='B', unit_scale=True)\n",
        "\n",
        "# Downloading progress\n",
        "print('Downloading: '+ '\\033[1;32m' + '' + h.torrent_file().name() + '\\033[0m')\n",
        "\n",
        "s = h.status()\n",
        "while not s.is_seeding:\n",
        "    downloaded_size = s.total_done\n",
        "    progress_bar.update(downloaded_size - progress_bar.n)\n",
        "    peers = s.num_peers\n",
        "    print('\\033[1;36m' + f'\\rNumber of peers: {peers}' + '\\033[0m', end='')\n",
        "    time.sleep(1)\n",
        "    s = h.status()\n",
        "\n",
        "print()\n",
        "progress_bar.close()\n",
        "print('\\033[1;32m' + '\\nDownload Complete. You Can Find Your File in the Folder Named \"Downloaded\" at \"https://drive.google.com/drive/\"' + '\\033[0m')"
      ],
      "metadata": {
        "cellView": "form",
        "id": "fLTfKclXYX40"
      },
      "execution_count": null,
      "outputs": []
    },
    {
      "cell_type": "code",
      "source": [
        "#@title Torrent File Downloader with `Magnet Link`\n",
        "\n",
        "# Install libtorrent and tqdm\n",
        "print('Importing necessary libraries...')\n",
        "\n",
        "try:\n",
        "  import libtorrent as lt\n",
        "except:\n",
        "  !apt install -y python3-libtorrent > /dev/null\n",
        "try:\n",
        "  from tqdm.notebook import tqdm\n",
        "except:\n",
        "  !pip install tqdm > /dev/null\n",
        "\n",
        "import libtorrent as lt\n",
        "import time\n",
        "from tqdm.notebook import tqdm\n",
        "print('DONE')\n",
        "\n",
        "\n",
        "# Input the magnet link\n",
        "magnet_link = \"\" #@param {type:\"string\"}\n",
        "\n",
        "# Create a session\n",
        "ses = lt.session()\n",
        "\n",
        "# Add magnet link as a torrent\n",
        "info_hash = lt.parse_magnet_uri(magnet_link)\n",
        "info_hash.save_path = './'  # Set the path where to save the download\n",
        "h = ses.add_torrent(info_hash)\n",
        "\n",
        "# Wait for metadata to download\n",
        "print('Downloading Metadata...')\n",
        "while not h.torrent_file():\n",
        "    time.sleep(1)\n",
        "print('Metadata Downloaded')\n",
        "\n",
        "# Get torrent info\n",
        "info = h.torrent_file()\n",
        "total_size = info.total_size()\n",
        "\n",
        "# Initialize progress bar\n",
        "progress_bar = tqdm(total=total_size, unit='B', unit_scale=True)\n",
        "\n",
        "# Downloading progress\n",
        "print('Downloading: '+ '\\033[1;36m' + '' + info.name() + '\\033[0m')\n",
        "\n",
        "s = h.status()\n",
        "while not s.is_seeding:\n",
        "    downloaded_size = s.total_done\n",
        "    progress_bar.update(downloaded_size - progress_bar.n)\n",
        "    peers = s.num_peers\n",
        "    print(f'\\rNumber of peers: {peers}', end='')  # Use carriage return to overwrite the current line\n",
        "    time.sleep(1)\n",
        "    s = h.status()\n",
        "\n",
        "print()  # Print a newline character after the loop to ensure proper formatting\n",
        "progress_bar.close()\n",
        "print('\\033[1;32m' + '\\nDownload Complete. ' + '\\033[0m')"
      ],
      "metadata": {
        "cellView": "form",
        "id": "52cpsIP8diFx"
      },
      "execution_count": null,
      "outputs": []
    },
    {
      "cell_type": "code",
      "source": [
        "#@title Copy the Torrent File into `Google Drive's \"Downloaded\"` Folder\n",
        "\n",
        "from google.colab import drive\n",
        "import shutil\n",
        "import os\n",
        "\n",
        "drive.flush_and_unmount()\n",
        "drive.mount('/content/gdrive', force_remount=True)\n",
        "\n",
        "source = './' + h.torrent_file().name()\n",
        "destination = '/content/gdrive/MyDrive/Downloaded/' + h.torrent_file().name()\n",
        "\n",
        "if os.path.isfile(source):\n",
        "    try:\n",
        "        new_location = shutil.copy2(source, destination)\n",
        "        print(f\"The file has been copied to: {os.path.join(destination, os.path.basename(new_location))}\")\n",
        "        print(\"You Can Find Your File in the Folder Named \\\"Downloaded\\\" at \\\"https://drive.google.com/drive/\\\"\")\n",
        "    except FileExistsError:\n",
        "        print(f\"File already exists at the destination. Please remove the file from {destination} and try again.\")\n",
        "elif os.path.isdir(source):\n",
        "    try:\n",
        "        shutil.copytree(source, destination)\n",
        "        print(f\"The directory has been copied to: {destination}\")\n",
        "    except FileExistsError as e:\n",
        "        print(f\"Directory already exists at the destination. Please remove the File/Directory called \\\"{h.torrent_file().name()}\\\" from {destination} and try again.\")\n",
        "else:\n",
        "    print(\"The source is not a valid file or directory.\")"
      ],
      "metadata": {
        "cellView": "form",
        "id": "AR3ZJBZZ_sBv"
      },
      "execution_count": null,
      "outputs": []
    },
    {
      "cell_type": "markdown",
      "source": [
        "# File Removing Section. You Can Remove the Files from Google Drive.\n",
        "---\n",
        "(Do Not Run 2 Cells)\n"
      ],
      "metadata": {
        "id": "CLRm5FJaGnCI"
      }
    },
    {
      "cell_type": "code",
      "source": [
        "#@title Remove the Downloaded File from Drive (Just in Case)\n",
        "import os\n",
        "\n",
        "try:\n",
        "    # specify the path to the file\n",
        "    file_path = f\"/content/drive/MyDrive/Downloaded/{filename}\"\n",
        "\n",
        "    # check if the file exists\n",
        "    if os.path.exists(file_path):\n",
        "        os.remove(file_path)\n",
        "        print(\"File removed successfully\")\n",
        "    else:\n",
        "        print(\"The file does not exist\")\n",
        "\n",
        "except NameError:\n",
        "    print(\"The variable 'filename' is not defined. Did you run the File Downloader?\")"
      ],
      "metadata": {
        "cellView": "form",
        "id": "nT5QaDywFQVL"
      },
      "execution_count": null,
      "outputs": []
    },
    {
      "cell_type": "code",
      "source": [
        "#@title Remove the Torrent Files from Drive (Just in Case)\n",
        "import os\n",
        "try:\n",
        "  # specify the path to the file\n",
        "  file_path = f\"/content/drive/MyDrive/Downloaded/{h.torrent_file().name()}\"\n",
        "\n",
        "  # check if the file exists\n",
        "  if os.path.exists(file_path):\n",
        "      # remove the file\n",
        "      os.remove(file_path)\n",
        "      print(\"File removed successfully\")\n",
        "  else:\n",
        "      print(\"The file does not exist\")\n",
        "except:\n",
        "  print(\"Did you Download a Torrent File First?\")"
      ],
      "metadata": {
        "cellView": "form",
        "id": "uXJyLWfPEOHM"
      },
      "execution_count": null,
      "outputs": []
    }
  ]
}

