{
  "nbformat": 4,
  "nbformat_minor": 0,
  "metadata": {
    "colab": {
      "provenance": [],
      "collapsed_sections": [
        "MFXLyvaWIhZ_",
        "jG_RHCErIq8d",
        "CLRm5FJaGnCI"
      ],
      "authorship_tag": "ABX9TyPNgvFkiwvq9WgS02uG5tCn",
      "include_colab_link": true
    },
    "kernelspec": {
      "name": "python3",
      "display_name": "Python 3"
    },
    "language_info": {
      "name": "python"
    }
  },
  "cells": [
    {
      "cell_type": "markdown",
      "metadata": {
        "id": "view-in-github",
        "colab_type": "text"
      },
      "source": [
        "<a href=\"https://colab.research.google.com/github/istiakm30/File-and-Torrent-Downloader/blob/main/Downloader.ipynb\" target=\"_parent\"><img src=\"https://colab.research.google.com/assets/colab-badge.svg\" alt=\"Open In Colab\"/></a>"
      ]
    },
    {
      "cell_type": "code",
      "source": [
        "#@title Setup Environment\n",
        "# Install necessary libraries\n",
        "!pip install tqdm pySmartDL --upgrade &> /dev/null\n",
        "!sudo apt-get install -y python3-libtorrent &> /dev/null\n",
        "print(\"Environment setup complete.\")\n",
        "try:\n",
        "    import libtorrent as lt\n",
        "    print(\"libtorrent successfully imported.\")\n",
        "except ImportError:\n",
        "    print(\"Failed to import libtorrent.\")"
      ],
      "metadata": {
        "id": "setup-cell"
      },
      "execution_count": null,
      "outputs": []
    },
    {
      "cell_type": "code",
      "source": [
        "#@title Enable Cloudflare WARP\n",
        "!sudo apt-get update > /dev/null\n",
        "!sudo apt-get install -y gnupg > /dev/null\n",
        "!curl -fsSL https://pkg.cloudflareclient.com/cloudflare-main.gpg | sudo gpg --yes --dearmor --output /usr/share/keyrings/cloudflare-main.gpg\n",
        "!echo 'deb [signed-by=/usr/share/keyrings/cloudflare-main.gpg] https://pkg.cloudflareclient.com/ focal main' | sudo tee /etc/apt/sources.list.d/cloudflare-main.list\n",
        "!sudo apt-get update > /dev/null\n",
        "!sudo apt-get install -y cloudflare-warp > /dev/null\n",
        "!warp-cli register\n",
        "!warp-cli set-mode warp\n",
        "!warp-cli connect\n",
        "!warp-cli status"
      ],
      "metadata": {
        "id": "warp-cell"
      },
      "execution_count": null,
      "outputs": []
    },
    {
      "cell_type": "code",
      "source": [
        "#@title Helper Functions\n",
        "import requests\n",
        "from tqdm.notebook import tqdm\n",
        "import re\n",
        "import os\n",
        "import time\n",
        "import shutil\n",
        "from pySmartDL import SmartDL, pySmartDL\n",
        "import libtorrent as lt\n",
        "from google.colab import drive\n",
        "from google.colab import files\n",
        "\n",
        "def get_filename_from_cd(cd):\n",
        "    \"\"\"Get filename from content-disposition header.\"\"\"\n",
        "    if not cd:\n",
        "        return None\n",
        "    fname = re.findall('filename=\"?(.+)\"?', cd)\n",
        "    if len(fname) == 0:\n",
        "        return None\n",
        "    return fname[0].strip('\"\\\\''')\n",
        "\n",
        "def download_file(url, destination_folder=\".\"):\n",
        "    \"\"\"Downloads a file from a URL with a progress bar.\"\"\"\n",
        "    if not url:\n",
        "      print(\"Please enter a URL.\")\n",
        "      return None\n",
        "\n",
        "    try:\n",
        "        response = requests.get(url, stream=True, allow_redirects=True)\n",
        "        response.raise_for_status()\n",
        "\n",
        "        total_size = int(response.headers.get('content-length', 0))\n",
        "        \n",
        "        filename = get_filename_from_cd(response.headers.get('content-disposition'))\n",
        "        if not filename:\n",
        "            filename = os.path.basename(response.url.split('?')[0])\n",
        "        if not filename:\n",
        "            filename = \"downloaded_file\"\n",
        "\n",
        "        filepath = os.path.join(destination_folder, filename)\n",
        "\n",
        "        with open(filepath, 'wb') as file, tqdm(\n",
        "            total=total_size, unit='iB', unit_scale=True, desc=filename\n",
        "        ) as progress_bar:\n",
        "            for data in response.iter_content(chunk_size=1024):\n",
        "                file.write(data)\n",
        "                progress_bar.update(len(data))\n",
        "\n",
        "        if total_size != 0 and progress_bar.n != total_size:\n",
        "            print(f\"ERROR: Download of '{filename}' failed. Size mismatch.\")\n",
        "            return None\n",
        "        else:\n",
        "            print(f\"'{filename}' downloaded successfully to '{destination_folder}'\")\n",
        "            return filepath\n",
        "\n",
        "    except requests.exceptions.RequestException as e:\n",
        "        print(f\"Error during download: {e}\")\n",
        "        return None\n",
        "    except IOError as e:\n",
        "        print(f\"Error writing to file '{filepath}': {e}\")\n",
        "        return None\n",
        "\n",
        "def download_file_multithreaded(url, destination_folder=\".\"):\n",
        "    \"\"\"Downloads a file using multiple threads for potentially faster speeds.\"\"\"\n",
        "    if not url:\n",
        "      print(\"Please enter a URL.\")\n",
        "      return None\n",
        "\n",
        "    try:\n",
        "        obj = SmartDL(url, dest=destination_folder, progress_bar=False)\n",
        "        obj.start(blocking=False)\n",
        "        filename = os.path.basename(obj.get_dest())\n",
        "\n",
        "        with tqdm(total=obj.get_final_filesize(), unit='B', unit_scale=True, unit_divisor=1024, desc=filename) as progress_bar:\n",
        "            while not obj.isFinished():\n",
        "                progress_bar.update(obj.get_dl_size() - progress_bar.n)\n",
        "                time.sleep(0.2)\n",
        "            progress_bar.update(obj.get_dl_size() - progress_bar.n)\n",
        "\n",
        "        if obj.isSuccessful():\n",
        "            print(f\"'{filename}' downloaded successfully to '{destination_folder}'\")\n",
        "            return obj.get_dest()\n",
        "        else:\n",
        "            print(f\"ERROR: something went wrong with the download of '{filename}'.\")\n",
        "            for e in obj.get_errors():\n",
        "                print(f\" - {e}\")\n",
        "            return None\n",
        "    except pySmartDL.errors.PySmartDL_Error as e:\n",
        "        print(f\"pySmartDL Error: {e}\")\n",
        "        return None\n",
        "    except Exception as e:\n",
        "        print(f\"An unexpected error occurred: {e}\")\n",
        "        return None\n",
        "\n",
        "def _download_torrent(session, params, destination_folder=\".\"):\n",
        "    \"\"\"\n",
        "    Internal function to handle the torrent download process.\n",
        "    \n",
        "    Args:\n",
        "        session: The libtorrent session.\n",
        "        params: The torrent parameters.\n",
        "        destination_folder: The folder to save the downloaded files.\n",
        "        \n",
        "    Returns:\n",
        "        A tuple containing the path to the downloaded file/directory and the torrent handle.\n",
        "        Returns (None, None) on failure.\n",
        "    \"\"\"\n",
        "    try:\n",
        "        h = session.add_torrent(params)\n",
        "        print(\"Downloading metadata...\")\n",
        "        while not h.status().has_metadata:\n",
        "            time.sleep(1)\n",
        "        print(\"Metadata downloaded.\")\n",
        "        \n",
        "        info = h.get_torrent_info()\n",
        "        name = info.name()\n",
        "        total_size = info.total_size()\n",
        "\n",
        "        with tqdm(total=total_size, unit='B', unit_scale=True, desc=name) as progress_bar:\n",
        "            while not h.status().is_seeding:\n",
        "                s = h.status()\n",
        "                if s.state == lt.torrent_status.error:\n",
        "                    print(f\"Error: {s.error}\")\n",
        "                    return None, None\n",
        "                progress_bar.set_postfix(Peers=s.num_peers, Seeds=s.num_seeds, Speed=f\"{s.download_rate/1024:.2f} kB/s\")\n",
        "                progress_bar.update(s.total_done - progress_bar.n)\n",
        "                time.sleep(1)\n",
        "        \n",
        "        print(f\"\\n'{name}' downloaded successfully to '{destination_folder}'\")\n",
        "        return os.path.join(destination_folder, name), h\n",
        "    except lt.error as e:\n",
        "        print(f\"Libtorrent error: {e}\")\n",
        "        return None, None\n",
        "    except Exception as e:\n",
        "        print(f\"An unexpected error occurred during torrent download: {e}\")\n",
        "        return None, None\n",
        "\n",
        "def download_torrent_from_file(torrent_path, destination_folder=\".\"):\n",
        "    \"\"\"Downloads a torrent from a .torrent file.\"\"\"\n",
        "    if not torrent_path or not os.path.exists(torrent_path):\n",
        "        print(\"Invalid torrent file path.\")\n",
        "        return None, None\n",
        "\n",
        "    try:\n",
        "        ses = lt.session({'listen_interfaces': '0.0.0.0:6881'})\n",
        "        info = lt.torrent_info(torrent_path)\n",
        "        params = {'ti': info, 'save_path': destination_folder}\n",
        "        return _download_torrent(ses, params, destination_folder)\n",
        "    except lt.error as e:\n",
        "        print(f\"Libtorrent error: {e}\")\n",
        "        return None, None\n",
        "    except Exception as e:\n",
        "        print(f\"An unexpected error occurred: {e}\")\n",
        "        return None, None\n",
        "\n",
        "def download_torrent_from_magnet(magnet_link, destination_folder=\".\"):\n",
        "    \"\"\"Downloads a torrent from a magnet link.\"\"\"\n",
        "    if not magnet_link:\n",
        "        print(\"Please enter a magnet link.\")\n",
        "        return None, None\n",
        "\n",
        "    try:\n",
        "        ses = lt.session({'listen_interfaces': '0.0.0.0:6881'})\n",
        "        params = lt.parse_magnet_uri(magnet_link)\n",
        "        params.save_path = destination_folder\n",
        "        return _download_torrent(ses, params, destination_folder)\n",
        "    except lt.error as e:\n",
        "        print(f\"Libtorrent error: {e}\")\n",
        "        return None, None\n",
        "    except Exception as e:\n",
        "        print(f\"An unexpected error occurred: {e}\")\n",
        "        return None, None\n",
        "\n",
        "def copy_to_gdrive(source_path, gdrive_folder=\"/content/gdrive/MyDrive/Downloaded/\"):\n",
        "    \"\"\"Copies a file or directory to a specified Google Drive folder.\"\"\"\n",
        "    if not source_path or not os.path.exists(source_path):\n",
        "        print(f\"Source '{source_path}' does not exist.\")\n",
        "        return\n",
        "\n",
        "    try:\n",
        "        print(\"Mounting Google Drive...\")\n",
        "        drive.mount('/content/gdrive', force_remount=True)\n",
        "        os.makedirs(gdrive_folder, exist_ok=True)\n",
        "        \n",
        "        destination_path = os.path.join(gdrive_folder, os.path.basename(source_path))\n",
        "\n",
        "        if os.path.exists(destination_path):\n",
        "            print(f\"'{os.path.basename(source_path)}' already exists in Google Drive. Skipping.\")\n",
        "            return\n",
        "\n",
        "        if os.path.isfile(source_path):\n",
        "            shutil.copy2(source_path, destination_path)\n",
        "            print(f\"File '{os.path.basename(source_path)}' copied to '{gdrive_folder}'\")\n",
        "        elif os.path.isdir(source_path):\n",
        "            shutil.copytree(source_path, destination_path)\n",
        "            print(f\"Directory '{os.path.basename(source_path)}' copied to '{gdrive_folder}'\")\n",
        "        else:\n",
        "            print(f\"'{source_path}' is not a file or directory.\")\n",
        "\n",
        "    except shutil.Error as e:\n",
        "        print(f\"Shutil error: {e}\")\n",
        "    except Exception as e:\n",
        "        print(f\"An unexpected error occurred while copying to Google Drive: {e}\")\n",
        "\n",
        "def remove_from_drive(file_name, gdrive_folder=\"/content/gdrive/MyDrive/Downloaded/\"):\n",
        "    \"\"\"Removes a file or directory from Google Drive with confirmation.\"\"\"\n",
        "    if not file_name:\n",
        "        print(\"No file name provided.\")\n",
        "        return\n",
        "\n",
        "    file_path = os.path.join(gdrive_folder, file_name)\n",
        "\n",
        "    if not os.path.exists(file_path):\n",
        "        print(f\"'{file_name}' does not exist in '{gdrive_folder}'.\")\n",
        "        return\n",
        "\n",
        "    try:\n",
        "        confirm = input(f\"Are you sure you want to remove '{file_name}' from Google Drive? [y/N]: \")\n",
        "        if confirm.lower() != 'y':\n",
        "            print(\"Removal cancelled.\")\n",
        "            return\n",
        "    except EOFError:\n",
        "        print(\"No input received. Removal cancelled.\")\n",
        "        return\n",
        "\n",
        "    try:\n",
        "        if os.path.isfile(file_path):\n",
        "            os.remove(file_path)\n",
        "            print(f\"File '{file_name}' removed successfully.\")\n",
        "        elif os.path.isdir(file_path):\n",
        "            shutil.rmtree(file_path)\n",
        "            print(f\"Directory '{file_name}' removed successfully.\")\n",
        "    except shutil.Error as e:\n",
        "        print(f\"Shutil error: {e}\")\n",
        "    except OSError as e:\n",
        "        print(f\"OS error: {e}\")\n",
        "    except Exception as e:\n",
        "        print(f\"An unexpected error occurred during removal: {e}\")\n"
      ],
      "metadata": {
        "id": "helper-functions"
      },
      "execution_count": null,
      "outputs": []
    },
    {
      "cell_type": "markdown",
      "source": [
        "# Download Files"
      ],
      "metadata": {
        "id": "MFXLyvaWIhZ_"
      }
    },
    {
      "cell_type": "code",
      "execution_count": null,
      "metadata": {
        "cellView": "form",
        "id": "0_C-gf_5OKLY"
      },
      "outputs": [],
      "source": [
        "#@title Basic Downloader\n",
        "download_link = '' #@param {type:\"string\"}\n",
        "destination_folder = \"/content/\"\n",
        "\n",
        "filename = download_file(download_link, destination_folder)\n",
        "if filename:\n",
        "  files.download(filename)"
      ]
    },
    {
      "cell_type": "code",
      "source": [
        "#@title Multi-Threaded Downloader\n",
        "download_link = '' #@param {type:\"string\"}\n",
        "destination_folder = \"/content/\"\n",
        "\n",
        "filename = download_file_multithreaded(download_link, destination_folder)\n",
        "if filename:\n",
        "  files.download(filename)"
      ],
      "metadata": {
        "cellView": "form",
        "id": "QURVKu96PF7m"
      },
      "execution_count": null,
      "outputs": []
    },
    {
      "cell_type": "code",
      "source": [
        "#@title Copy Downloaded File to Google Drive\n",
        "if 'filename' in locals() and filename:\n",
        "    copy_to_gdrive(filename)\n",
        "else:\n",
        "    print(\"No file to copy. Please download a file first.\")"
      ],
      "metadata": {
        "cellView": "form",
        "id": "bEOnRHXuSjsf"
      },
      "execution_count": null,
      "outputs": []
    },
    {
      "cell_type": "markdown",
      "source": [
        "# Download Torrents"
      ],
      "metadata": {
        "id": "jG_RHCErIq8d"
      }
    },
    {
      "cell_type": "code",
      "source": [
        "#@title Torrent File Downloader with `.torrent` File\n",
        "uploaded = files.upload()\n",
        "if uploaded:\n",
        "    torrent_file_path = list(uploaded.keys())[0]\n",
        "    destination_folder = \"/content/\"\n",
        "    \n",
        "    downloaded_path, h = download_torrent_from_file(torrent_file_path, destination_folder)\n",
        "    \n",
        "    if downloaded_path:\n",
        "        print(f\"'\\n{os.path.basename(downloaded_path)}' is ready.\")\n",
        "else:\n",
        "    print(\"No file uploaded.\")"
      ],
      "metadata": {
        "cellView": "form",
        "id": "fLTfKclXYX40"
      },
      "execution_count": null,
      "outputs": []
    },
    {
      "cell_type": "code",
      "source": [
        "#@title Torrent File Downloader with `Magnet Link`\n",
        "magnet_link = \"\" #@param {type:\"string\"}\n",
        "destination_folder = \"/content/\"\n",
        "\n",
        "downloaded_path, h = download_torrent_from_magnet(magnet_link, destination_folder)\n",
        "if downloaded_path:\n",
        "    print(f\"'\\n{os.path.basename(downloaded_path)}' is ready.\")"
      ],
      "metadata": {
        "cellView": "form",
        "id": "52cpsIP8diFx"
      },
      "execution_count": null,
      "outputs": []
    },
    {
      "cell_type": "code",
      "source": [
        "#@title Copy the Torrent Download into Google Drive's \"Downloaded\" Folder\n",
        "if 'h' in locals() and h.is_valid():\n",
        "    source_path = os.path.join('/content/', h.get_torrent_info().name())\n",
        "    copy_to_gdrive(source_path)\n",
        "else:\n",
        "    print(\"No torrent download to copy. Please download a torrent first.\")"
      ],
      "metadata": {
        "cellView": "form",
        "id": "AR3ZJBZZ_sBv"
      },
      "execution_count": null,
      "outputs": []
    },
    {
      "cell_type": "markdown",
      "source": [
        "# File Removing Section. You Can Remove the Files from Google Drive.\n",
        "---\n",
        "(Do Not Run 2 Cells)\n"
      ],
      "metadata": {
        "id": "CLRm5FJaGnCI"
      }
    },
    {
      "cell_type": "code",
      "source": [
        "#@title Remove the Downloaded File from Drive (Just in Case)\n",
        "if 'filename' in locals() and filename:\n",
        "    remove_from_drive(os.path.basename(filename))\n",
        "else:\n",
        "    print(\"The variable 'filename' is not defined. Did you run the File Downloader?\")"
      ],
      "metadata": {
        "cellView": "form",
        "id": "nT5QaDywFQVL"
      },
      "execution_count": null,
      "outputs": []
    },
    {
      "cell_type": "code",
      "source": [
        "#@title Remove the Torrent Files from Drive (Just in Case)\n",
        "if 'h' in locals() and h.is_valid():\n",
        "    remove_from_drive(h.get_torrent_info().name())\n",
        "else:\n",
        "    print(\"Did you Download a Torrent File First?\")"
      ],
      "metadata": {
        "cellView": "form",
        "id": "uXJyLWfPEOHM"
      },
      "execution_count": null,
      "outputs": []
    }
  ]
}